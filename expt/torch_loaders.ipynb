{
 "cells": [
  {
   "cell_type": "markdown",
   "metadata": {},
   "source": [
    "# Implement/Test Dataloader"
   ]
  },
  {
   "cell_type": "code",
   "execution_count": null,
   "metadata": {},
   "outputs": [],
   "source": [
    "%load_ext autoreload\n",
    "%autoreload 2"
   ]
  },
  {
   "cell_type": "code",
   "execution_count": null,
   "metadata": {},
   "outputs": [],
   "source": [
    "import numpy as np\n",
    "import pandas as pd\n",
    "\n",
    "from pyprojroot import here\n",
    "\n",
    "from trent.abt import torch_data as td"
   ]
  },
  {
   "cell_type": "markdown",
   "metadata": {},
   "source": [
    "Scheme:\n",
    "\n",
    "```\n",
    "for repeat in repeats:\n",
    "    for fold in folds:\n",
    "        tr, te = data loaders\n",
    "        ....\n",
    "```"
   ]
  },
  {
   "cell_type": "code",
   "execution_count": null,
   "metadata": {},
   "outputs": [],
   "source": [
    "orchestrator = td.RepeatedStratifiedGroupKFoldOrchestrator(\n",
    "    here(\"data/test_abt.csv\"), \n",
    "    repeats=2, \n",
    "    folds=5, \n",
    "    batch_size=2\n",
    ")"
   ]
  },
  {
   "cell_type": "code",
   "execution_count": null,
   "metadata": {},
   "outputs": [],
   "source": [
    "for repeat in orchestrator:\n",
    "    print(repeat)\n",
    "    for fold in repeat:\n",
    "        tr_dl, te_dl = fold\n",
    "        merged = pd.concat([tr_dl.dataset.data, te_dl.dataset.data])\n",
    "        X, y, w = next(iter(tr_dl))\n",
    "        print(\"y\", y)\n",
    "        print(\"w\", w)\n",
    "        break"
   ]
  },
  {
   "cell_type": "code",
   "execution_count": null,
   "metadata": {},
   "outputs": [],
   "source": [
    "merged.head()"
   ]
  },
  {
   "cell_type": "code",
   "execution_count": null,
   "metadata": {},
   "outputs": [],
   "source": [
    "# Check: the partitions should not overlap on county: OK\n",
    "merged.groupby(\"county_fip\").apply(lambda c: c[\"__fold\"].nunique()).max()"
   ]
  },
  {
   "cell_type": "code",
   "execution_count": null,
   "metadata": {},
   "outputs": [],
   "source": [
    "# Check for even state x county distribution across folds\n",
    "(\n",
    "    merged.loc[:, [\"state_code\", \"__fold\", \"county_fip\"]]\n",
    "          .drop_duplicates()\n",
    "          .groupby(\"state_code\")[\"__fold\"]\n",
    "          .value_counts()\n",
    "          .unstack()\n",
    ")"
   ]
  },
  {
   "cell_type": "code",
   "execution_count": null,
   "metadata": {},
   "outputs": [],
   "source": []
  }
 ],
 "metadata": {
  "kernelspec": {
   "display_name": "Python 3",
   "language": "python",
   "name": "python3"
  },
  "language_info": {
   "codemirror_mode": {
    "name": "ipython",
    "version": 3
   },
   "file_extension": ".py",
   "mimetype": "text/x-python",
   "name": "python",
   "nbconvert_exporter": "python",
   "pygments_lexer": "ipython3",
   "version": "3.6.7"
  }
 },
 "nbformat": 4,
 "nbformat_minor": 4
}
