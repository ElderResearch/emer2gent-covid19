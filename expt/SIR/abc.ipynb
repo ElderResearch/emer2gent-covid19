{
 "cells": [
  {
   "cell_type": "markdown",
   "metadata": {},
   "source": [
    "# ABC for COVID modeling\n",
    "\n",
    "Use numba for speed?"
   ]
  },
  {
   "cell_type": "markdown",
   "metadata": {},
   "source": [
    "```\n",
    "!pip install scikit-learn==0.19.1\n",
    "!pip install astroabc\n",
    "```"
   ]
  },
  {
   "cell_type": "code",
   "execution_count": null,
   "metadata": {},
   "outputs": [],
   "source": [
    "%load_ext autoreload\n",
    "%autoreload 2"
   ]
  },
  {
   "cell_type": "code",
   "execution_count": null,
   "metadata": {},
   "outputs": [],
   "source": [
    "from typing import Tuple, Union\n",
    "\n",
    "import matplotlib.pyplot as plt\n",
    "import numpy as np\n",
    "import pandas as pd\n",
    "import seaborn as sns\n",
    "\n",
    "from astroabc import ABC_class as ABC\n",
    "from pyprojroot import here"
   ]
  },
  {
   "cell_type": "code",
   "execution_count": null,
   "metadata": {},
   "outputs": [],
   "source": [
    "Array = Union[np.ndarray]"
   ]
  },
  {
   "cell_type": "code",
   "execution_count": null,
   "metadata": {},
   "outputs": [],
   "source": [
    "sns.set_palette(\"muted\")"
   ]
  },
  {
   "cell_type": "markdown",
   "metadata": {},
   "source": [
    "## SIR implementation"
   ]
  },
  {
   "cell_type": "code",
   "execution_count": null,
   "metadata": {},
   "outputs": [],
   "source": [
    "class SIR:\n",
    "    \"\"\"Simulate a deterministic SIR process.\"\"\"\n",
    "    def __init__(self, pop: int = 1000, beta: float = 0.2, gamma: float = 0.1):\n",
    "        self.beta = beta\n",
    "        self.gamma = gamma\n",
    "        self.pop = pop\n",
    "    \n",
    "    def __repr__(self) -> str:\n",
    "        return f\"<SIR process(beta = {self.beta}, gamma = {self.gamma}, pop = {self.pop})>\"\n",
    "    \n",
    "    def simulate(self, steps: int, init: int = 1) -> Tuple[Array, Array, Array]:\n",
    "        St = np.zeros((steps + 1), dtype=int)\n",
    "        It = np.zeros((steps + 1), dtype=int)\n",
    "        Rt = np.zeros((steps + 1), dtype=int)\n",
    "        It[0] = init\n",
    "        St[0] = self.pop - init\n",
    "        \n",
    "        for i in range(1, steps + 1):\n",
    "            b = self.beta * St[i-1] * It[i - 1] / self.pop\n",
    "            g = self.gamma * It[i - 1]\n",
    "            St[i] = max(0, St[i - 1] - b)\n",
    "            Rt[i] = max(0, Rt[i - 1] + g)\n",
    "            It[i] = max(0, It[i - 1] + (St[i - 1] - St[i]) - (Rt[i] - Rt[i - 1]))\n",
    "        return St, It, Rt"
   ]
  },
  {
   "cell_type": "code",
   "execution_count": null,
   "metadata": {},
   "outputs": [],
   "source": [
    "s, i, r = SIR(beta=0.44, gamma=0.2).simulate(steps=100)"
   ]
  },
  {
   "cell_type": "code",
   "execution_count": null,
   "metadata": {},
   "outputs": [],
   "source": [
    "fig, ax = plt.subplots()\n",
    "ax.plot(np.arange(s.shape[-1]), s, '-',  label=\"S\")\n",
    "ax.plot(np.arange(i.shape[-1]), i, '--', label=\"I\")\n",
    "ax.plot(np.arange(r.shape[-1]), r, '-.', label=\"R\")\n",
    "ax.legend()\n",
    "ax.set_xlabel(\"Time step\")\n",
    "ax.set_ylabel(\"Population section\")\n",
    "None"
   ]
  },
  {
   "cell_type": "markdown",
   "metadata": {},
   "source": [
    "## Toy model\n",
    "\n",
    "Let's try to fit the SIR trajectory using pointwise Euclidean distance."
   ]
  },
  {
   "cell_type": "code",
   "execution_count": null,
   "metadata": {},
   "outputs": [],
   "source": [
    "def dist_euclidean(a: Array, b: Array) -> float:\n",
    "    \"\"\"Assume a, b are like [..., len simulation]\"\"\"\n",
    "    return np.sqrt(np.square(a - b).sum()) / a.shape[-1]"
   ]
  },
  {
   "cell_type": "code",
   "execution_count": null,
   "metadata": {},
   "outputs": [],
   "source": [
    "def simulate_sir_simple(params):\n",
    "    \"\"\"Params are normal, convert to positive.\"\"\"\n",
    "    beta, gamma = np.exp(params)\n",
    "    sim = SIR(beta=beta, gamma=gamma)\n",
    "    out = sim.simulate(steps=100)[1]\n",
    "    return out"
   ]
  },
  {
   "cell_type": "code",
   "execution_count": null,
   "metadata": {},
   "outputs": [],
   "source": [
    "# Data to recover: beta, gamma, init\n",
    "DATA = SIR(beta=0.44, gamma=0.2).simulate(steps=100)[1]"
   ]
  },
  {
   "cell_type": "code",
   "execution_count": null,
   "metadata": {},
   "outputs": [],
   "source": [
    "# Use parameters from examples\n",
    "sampler = ABC(\n",
    "    nparam=2, \n",
    "    npart=1000, \n",
    "    data=DATA, \n",
    "    tlevels=[10, 1],\n",
    "    niter=100, \n",
    "    priors=[\n",
    "        [\"normal\", [-1., 0.1]],\n",
    "        [\"normal\", [-1., 0.1]]\n",
    "    ], \n",
    "    dfunc=dist_euclidean,\n",
    "    verbose=1,\n",
    "    adapt_t=True\n",
    ")\n",
    "\n",
    "sampler.sample(simulate_sir_simple)"
   ]
  },
  {
   "cell_type": "code",
   "execution_count": null,
   "metadata": {},
   "outputs": [],
   "source": [
    "# Pretty good!\n",
    "np.exp([-0.8005921380909115, -1.551978322835761])"
   ]
  },
  {
   "cell_type": "code",
   "execution_count": null,
   "metadata": {},
   "outputs": [],
   "source": [
    "# Look at the final set of parameter samples\n",
    "i = 27\n",
    "fig, ax = plt.subplots()\n",
    "ax.scatter(np.exp(sampler.theta[i,:,0]), np.exp(sampler.theta[i,:,1]), s=4, c=sampler.wgt[i])\n",
    "ax.set_xlabel(\"gamma\")\n",
    "ax.set_ylabel(\"beta\")\n",
    "None"
   ]
  },
  {
   "cell_type": "code",
   "execution_count": null,
   "metadata": {},
   "outputs": [],
   "source": [
    "# Marginals, too!\n",
    "i = 27\n",
    "fig, axs = plt.subplots(ncols=3, figsize=(10, 4), sharey=True, constrained_layout=True)\n",
    "axs[0].hist(np.exp(sampler.theta[i,:,0]))\n",
    "axs[1].hist(np.exp(sampler.theta[i,:,1]))\n",
    "axs[2].hist(np.exp(sampler.theta[i,:,0] - sampler.theta[i,:,1]))\n",
    "None"
   ]
  },
  {
   "cell_type": "markdown",
   "metadata": {},
   "source": [
    "## NC COVID-19 test\n",
    "\n",
    "Can we take a look at a trajectory at the state level?"
   ]
  },
  {
   "cell_type": "code",
   "execution_count": null,
   "metadata": {},
   "outputs": [],
   "source": [
    "abt = pd.read_csv(here(\"data/processed/ABT_V1.csv\"), low_memory=False)"
   ]
  },
  {
   "cell_type": "code",
   "execution_count": null,
   "metadata": {},
   "outputs": [],
   "source": [
    "nc = abt.loc[abt.state_code == \"NC\", [\"county_fip\", \"date\", \"confirmed\", \"acs_pop_total\"]]\n",
    "nc = nc.sort_values(\"date\").reset_index(drop=True)\n",
    "nc.head()"
   ]
  },
  {
   "cell_type": "markdown",
   "metadata": {},
   "source": [
    "### Simple: Wake county\n",
    "\n",
    "Start from the first observed case.\n",
    "\n",
    "One problem I didn't think of immediately: the curve-matching approach requires knowing the start time."
   ]
  },
  {
   "cell_type": "code",
   "execution_count": null,
   "metadata": {},
   "outputs": [],
   "source": [
    "wake = nc.loc[nc.county_fip == 37183]\n",
    "wake = wake.loc[wake.date >= wake.date.loc[wake.confirmed > 0].min()]\n",
    "wake.head()"
   ]
  },
  {
   "cell_type": "code",
   "execution_count": null,
   "metadata": {},
   "outputs": [],
   "source": [
    "def simulate_sir_wake(params):\n",
    "    \"\"\"Params are normal, convert to positive.\"\"\"\n",
    "    beta, gamma = np.exp(params)\n",
    "    sim = SIR(beta=beta, gamma=gamma, pop=1046558)\n",
    "    out = sim.simulate(steps=200)[1].max()\n",
    "    return out"
   ]
  },
  {
   "cell_type": "code",
   "execution_count": null,
   "metadata": {},
   "outputs": [],
   "source": [
    "def single_dist(x, y):\n",
    "    dist = 2 * np.abs(x - y) / (x + y)\n",
    "    return dist"
   ]
  },
  {
   "cell_type": "code",
   "execution_count": null,
   "metadata": {},
   "outputs": [],
   "source": [
    "sampler = ABC(\n",
    "    nparam=2, \n",
    "    npart=1000, \n",
    "    data=wake.confirmed.values.max(), \n",
    "    tlevels=[10, 0.01],\n",
    "    niter=100, \n",
    "    priors=[\n",
    "        [\"normal\", [-1., 0.5]],\n",
    "        [\"normal\", [-1., 0.5]]\n",
    "    ], \n",
    "    dfunc=single_dist,\n",
    "    verbose=1,\n",
    "    adapt_t=True\n",
    ")\n",
    "\n",
    "sampler.sample(simulate_sir_wake)"
   ]
  },
  {
   "cell_type": "code",
   "execution_count": null,
   "metadata": {},
   "outputs": [],
   "source": [
    "np.exp(np.subtract(*[-1.02469649667087, -1.1083142591439332]))"
   ]
  },
  {
   "cell_type": "code",
   "execution_count": null,
   "metadata": {},
   "outputs": [],
   "source": [
    "plt.hist(np.exp(sampler.theta[30,:,0]-sampler.theta[30,:,1]))"
   ]
  },
  {
   "cell_type": "markdown",
   "metadata": {},
   "source": [
    "### Harder: All NC"
   ]
  },
  {
   "cell_type": "code",
   "execution_count": null,
   "metadata": {},
   "outputs": [],
   "source": []
  },
  {
   "cell_type": "code",
   "execution_count": null,
   "metadata": {},
   "outputs": [],
   "source": []
  },
  {
   "cell_type": "markdown",
   "metadata": {},
   "source": [
    "1. Start at each county's first case\n",
    "2. Build a SIR model up to the max length\n",
    "3. Compute the distance between each series"
   ]
  },
  {
   "cell_type": "code",
   "execution_count": null,
   "metadata": {},
   "outputs": [],
   "source": [
    "nc.groupby(\"county_fip\").date[nc.confirmed > 0].min()"
   ]
  },
  {
   "cell_type": "code",
   "execution_count": null,
   "metadata": {},
   "outputs": [],
   "source": []
  }
 ],
 "metadata": {
  "kernelspec": {
   "display_name": "Python 3",
   "language": "python",
   "name": "python3"
  },
  "language_info": {
   "codemirror_mode": {
    "name": "ipython",
    "version": 3
   },
   "file_extension": ".py",
   "mimetype": "text/x-python",
   "name": "python",
   "nbconvert_exporter": "python",
   "pygments_lexer": "ipython3",
   "version": "3.6.7"
  }
 },
 "nbformat": 4,
 "nbformat_minor": 4
}
